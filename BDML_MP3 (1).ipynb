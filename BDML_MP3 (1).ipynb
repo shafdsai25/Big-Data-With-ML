{
 "cells": [
  {
   "cell_type": "code",
   "execution_count": 0,
   "metadata": {
    "application/vnd.databricks.v1+cell": {
     "cellMetadata": {
      "byteLimit": 2048000,
      "rowLimit": 10000
     },
     "inputWidgets": {},
     "nuid": "c39aa623-cf4c-4609-92fe-d7f23461843f",
     "showTitle": true,
     "title": "1. Create a dataframe from the daily data file. Display the schema of the dataframe."
    }
   },
   "outputs": [],
   "source": [
    "# The following three lines are required if you are running PySpark using Jupyter notebook with Python3 as kernel \n",
    "import pyspark\n",
    "from pyspark.sql import SparkSession\n",
    "spark = SparkSession.builder.appName(\"Python Spark SQL example\").getOrCreate()"
   ]
  },
  {
   "cell_type": "code",
   "execution_count": 0,
   "metadata": {
    "application/vnd.databricks.v1+cell": {
     "cellMetadata": {
      "byteLimit": 2048000,
      "rowLimit": 10000
     },
     "inputWidgets": {},
     "nuid": "cc6298a8-5bb4-4cf2-84a0-40c728c8d386",
     "showTitle": false,
     "title": ""
    }
   },
   "outputs": [],
   "source": [
    "dailyDF = spark.read.load(\"/FileStore/tables/daily_data.txt\", format=\"csv\", sep=\"\\t\", inferSchema=\"true\",header=\"true\")\n",
    "dividendDF = spark.read.load(\"/FileStore/tables/dividend_data.txt\", format=\"csv\", sep=\"\\t\", inferSchema=\"true\",header=\"true\")"
   ]
  },
  {
   "cell_type": "code",
   "execution_count": 0,
   "metadata": {
    "application/vnd.databricks.v1+cell": {
     "cellMetadata": {
      "byteLimit": 2048000,
      "rowLimit": 10000
     },
     "inputWidgets": {},
     "nuid": "1c9b4b7f-29c8-41a6-a04c-a521a5fb75ea",
     "showTitle": false,
     "title": ""
    }
   },
   "outputs": [
    {
     "output_type": "stream",
     "name": "stdout",
     "output_type": "stream",
     "text": [
      "root\n |-- exchange: string (nullable = true)\n |-- stock_symbol: string (nullable = true)\n |-- date: date (nullable = true)\n |-- open_price: double (nullable = true)\n |-- high_price: double (nullable = true)\n |-- low_price: double (nullable = true)\n |-- close_price: double (nullable = true)\n |-- volume: integer (nullable = true)\n |-- adjusted_close_price: double (nullable = true)\n\n"
     ]
    }
   ],
   "source": [
    "dailyDF.printSchema()"
   ]
  },
  {
   "cell_type": "code",
   "execution_count": 0,
   "metadata": {
    "application/vnd.databricks.v1+cell": {
     "cellMetadata": {
      "byteLimit": 2048000,
      "rowLimit": 10000
     },
     "inputWidgets": {},
     "nuid": "a89820fa-f2fd-42fd-b0a2-51bd9e4a8917",
     "showTitle": true,
     "title": "2. Get the number of rows and the number of columns of the dataframe."
    }
   },
   "outputs": [
    {
     "output_type": "stream",
     "name": "stdout",
     "output_type": "stream",
     "text": [
      "Out[25]: 171430"
     ]
    }
   ],
   "source": [
    "dailyDF.count() #No. of rows"
   ]
  },
  {
   "cell_type": "code",
   "execution_count": 0,
   "metadata": {
    "application/vnd.databricks.v1+cell": {
     "cellMetadata": {
      "byteLimit": 2048000,
      "rowLimit": 10000
     },
     "inputWidgets": {},
     "nuid": "bfa48597-8c46-4c67-a752-701ac0d5f694",
     "showTitle": false,
     "title": ""
    }
   },
   "outputs": [
    {
     "output_type": "stream",
     "name": "stdout",
     "output_type": "stream",
     "text": [
      "Out[26]: 9"
     ]
    }
   ],
   "source": [
    "len(dailyDF.columns) #No. of columns"
   ]
  },
  {
   "cell_type": "code",
   "execution_count": 0,
   "metadata": {
    "application/vnd.databricks.v1+cell": {
     "cellMetadata": {
      "byteLimit": 2048000,
      "rowLimit": 10000
     },
     "inputWidgets": {},
     "nuid": "6cebe562-48fc-4ab7-b780-e89da767bfe9",
     "showTitle": false,
     "title": ""
    }
   },
   "outputs": [
    {
     "output_type": "stream",
     "name": "stdout",
     "output_type": "stream",
     "text": [
      "+--------+------------+----------+----------+----------+---------+-----------+-------+--------------------+\n|exchange|stock_symbol|      date|open_price|high_price|low_price|close_price| volume|adjusted_close_price|\n+--------+------------+----------+----------+----------+---------+-----------+-------+--------------------+\n|    NYSE|         JEF|2010-02-08|      25.4|     25.49|    24.78|      24.82|1134300|               24.82|\n|    NYSE|         JEF|2010-02-05|     24.91|     25.19|    24.08|      25.01|1765200|               25.01|\n|    NYSE|         JEF|2010-02-04|     26.01|      26.2|    24.85|      24.85|1414400|               24.85|\n|    NYSE|         JEF|2010-02-03|     26.23|     26.76|    26.22|      26.29|1066000|               26.29|\n|    NYSE|         JEF|2010-02-02|     26.08|     26.86|    25.78|      26.46|1496400|               26.46|\n|    NYSE|         JEF|2010-02-01|     25.61|     26.11|    25.36|      26.11|2381800|               26.11|\n|    NYSE|         JEF|2010-01-29|     26.57|      26.8|    25.41|      25.54|2010000|               25.54|\n|    NYSE|         JEF|2010-01-28|      27.4|      27.4|    26.35|      26.36|1708100|               26.36|\n|    NYSE|         JEF|2010-01-27|     26.44|     27.15|    26.42|      27.14|1929700|               27.14|\n|    NYSE|         JEF|2010-01-26|     26.68|     26.99|    26.46|       26.5|1422100|                26.5|\n+--------+------------+----------+----------+----------+---------+-----------+-------+--------------------+\nonly showing top 10 rows\n\n"
     ]
    }
   ],
   "source": [
    "dailyDF.show(10)"
   ]
  },
  {
   "cell_type": "code",
   "execution_count": 0,
   "metadata": {
    "application/vnd.databricks.v1+cell": {
     "cellMetadata": {
      "byteLimit": 2048000,
      "rowLimit": 10000
     },
     "inputWidgets": {},
     "nuid": "5224ffc9-a34a-434f-865f-e11e4d0e3d91",
     "showTitle": true,
     "title": "3. Display the columns - stock_symbol, date, volume, adjusted_close_price - of the top 10 records of the dataframe. Use Spark SQL’s dataframe function for this."
    }
   },
   "outputs": [
    {
     "output_type": "stream",
     "name": "stdout",
     "output_type": "stream",
     "text": [
      "+------------+----------+-------+--------------------+\n|stock_symbol|      date| volume|adjusted_close_price|\n+------------+----------+-------+--------------------+\n|         JEF|2010-02-08|1134300|               24.82|\n|         JEF|2010-02-05|1765200|               25.01|\n|         JEF|2010-02-04|1414400|               24.85|\n|         JEF|2010-02-03|1066000|               26.29|\n|         JEF|2010-02-02|1496400|               26.46|\n|         JEF|2010-02-01|2381800|               26.11|\n|         JEF|2010-01-29|2010000|               25.54|\n|         JEF|2010-01-28|1708100|               26.36|\n|         JEF|2010-01-27|1929700|               27.14|\n|         JEF|2010-01-26|1422100|                26.5|\n+------------+----------+-------+--------------------+\nonly showing top 10 rows\n\n"
     ]
    }
   ],
   "source": [
    "dailyDF.select(dailyDF.stock_symbol,dailyDF.date,dailyDF.volume,dailyDF.adjusted_close_price).show(n=10)"
   ]
  },
  {
   "cell_type": "code",
   "execution_count": 0,
   "metadata": {
    "application/vnd.databricks.v1+cell": {
     "cellMetadata": {
      "byteLimit": 2048000,
      "rowLimit": 10000
     },
     "inputWidgets": {},
     "nuid": "ad7ba1e3-2e0a-4494-817f-4099edfec66c",
     "showTitle": true,
     "title": "4. Display the columns - stock_symbol, date, volume, adjusted_close_price – for the top 10 rows of the dataframe after filtering rows of the dataframe for volume more than 2 million i.e. 20 lakhs."
    }
   },
   "outputs": [
    {
     "output_type": "stream",
     "name": "stdout",
     "output_type": "stream",
     "text": [
      "+------------+----------+-------+--------------------+\n|stock_symbol|      date| volume|adjusted_close_price|\n+------------+----------+-------+--------------------+\n|         JEF|2010-02-01|2381800|               26.11|\n|         JEF|2010-01-29|2010000|               25.54|\n|         JEF|2010-01-22|4806900|               26.58|\n|         JEF|2010-01-21|4037000|                27.0|\n|         JEF|2010-01-20|3740600|                26.8|\n|         JEF|2010-01-15|3198700|               25.48|\n|         JEF|2010-01-14|2090400|               25.82|\n|         JEF|2010-01-13|2418900|               25.46|\n|         JEF|2010-01-12|3174200|               25.53|\n|         JEF|2010-01-08|2182100|               25.98|\n+------------+----------+-------+--------------------+\nonly showing top 10 rows\n\n"
     ]
    }
   ],
   "source": [
    "dailyDF.select(dailyDF.stock_symbol,dailyDF.date,dailyDF.volume,dailyDF.adjusted_close_price).filter(dailyDF[\"volume\"] > 2000000).show(n=10)"
   ]
  },
  {
   "cell_type": "code",
   "execution_count": 0,
   "metadata": {
    "application/vnd.databricks.v1+cell": {
     "cellMetadata": {
      "byteLimit": 2048000,
      "rowLimit": 10000
     },
     "inputWidgets": {},
     "nuid": "23299629-e0e2-4c79-9496-5cb9f0f30038",
     "showTitle": true,
     "title": "    5. Create a dataframe from the dividend data file. Display the schema of the dataframe."
    }
   },
   "outputs": [],
   "source": [
    "dividendDF = spark.read.load(\"/FileStore/tables/dividend_data.txt\", format=\"csv\", sep=\"\\t\", inferSchema=\"true\",header=\"true\")"
   ]
  },
  {
   "cell_type": "code",
   "execution_count": 0,
   "metadata": {
    "application/vnd.databricks.v1+cell": {
     "cellMetadata": {
      "byteLimit": 2048000,
      "rowLimit": 10000
     },
     "inputWidgets": {},
     "nuid": "ae2601ec-e57d-4860-a535-73a85cf77bf8",
     "showTitle": false,
     "title": ""
    }
   },
   "outputs": [
    {
     "output_type": "stream",
     "name": "stdout",
     "output_type": "stream",
     "text": [
      "root\n |-- exchange: string (nullable = true)\n |-- stock_symbol: string (nullable = true)\n |-- date: date (nullable = true)\n |-- dividends: double (nullable = true)\n\n"
     ]
    }
   ],
   "source": [
    "dividendDF.printSchema()"
   ]
  },
  {
   "cell_type": "code",
   "execution_count": 0,
   "metadata": {
    "application/vnd.databricks.v1+cell": {
     "cellMetadata": {
      "byteLimit": 2048000,
      "rowLimit": 10000
     },
     "inputWidgets": {},
     "nuid": "56ba621a-b59f-4cc6-a3d9-2077ee035670",
     "showTitle": false,
     "title": ""
    }
   },
   "outputs": [
    {
     "output_type": "stream",
     "name": "stdout",
     "output_type": "stream",
     "text": [
      "+--------+------------+----------+---------+\n|exchange|stock_symbol|      date|dividends|\n+--------+------------+----------+---------+\n|    NYSE|         JAH|2009-12-30|    0.075|\n|    NYSE|         JAH|2009-09-29|    0.075|\n|    NYSE|         JGT|2009-12-11|    0.377|\n|    NYSE|         JGT|2009-09-11|    0.377|\n|    NYSE|         JGT|2009-06-11|    0.377|\n|    NYSE|         JGT|2009-03-11|    0.377|\n|    NYSE|         JGT|2008-12-11|    0.377|\n|    NYSE|         JGT|2008-09-11|    0.451|\n|    NYSE|         JGT|2008-06-11|    0.451|\n|    NYSE|         JGT|2008-03-12|    0.451|\n|    NYSE|         JGT|2007-12-12|    0.451|\n|    NYSE|         JGT|2007-09-12|    0.451|\n|    NYSE|         JGT|2007-06-13|    0.451|\n|    NYSE|         JKG|2009-12-24|    0.327|\n|    NYSE|         JKG|2009-09-23|    0.223|\n|    NYSE|         JKG|2009-06-23|    0.177|\n|    NYSE|         JKG|2009-03-25|    0.171|\n|    NYSE|         JKG|2008-12-29|    0.077|\n|    NYSE|         JKG|2008-12-24|     0.34|\n|    NYSE|         JKG|2008-06-24|    0.199|\n+--------+------------+----------+---------+\nonly showing top 20 rows\n\n"
     ]
    }
   ],
   "source": [
    "dividendDF.show()"
   ]
  },
  {
   "cell_type": "code",
   "execution_count": 0,
   "metadata": {
    "application/vnd.databricks.v1+cell": {
     "cellMetadata": {
      "byteLimit": 2048000,
      "rowLimit": 10000
     },
     "inputWidgets": {},
     "nuid": "112a1b83-ca73-41b9-bd78-7ee1500c75e2",
     "showTitle": true,
     "title": "6. Get the stock_symbol and the number of times it gave dividends in our data. Use Spark SQL’s dataframe function for this."
    }
   },
   "outputs": [],
   "source": [
    "dividendDF.createOrReplaceTempView(\"dividend_table\")\n",
    "\n",
    "result = spark.sql(\"SELECT stock_symbol, COUNT(*) AS dividend_count FROM dividend_table GROUP BY stock_symbol ORDER BY stock_symbol\")"
   ]
  },
  {
   "cell_type": "code",
   "execution_count": 0,
   "metadata": {
    "application/vnd.databricks.v1+cell": {
     "cellMetadata": {
      "byteLimit": 2048000,
      "rowLimit": 10000
     },
     "inputWidgets": {},
     "nuid": "4a3d18b5-f1a2-43de-9c35-747315fc8e3c",
     "showTitle": false,
     "title": ""
    }
   },
   "outputs": [
    {
     "output_type": "stream",
     "name": "stdout",
     "output_type": "stream",
     "text": [
      "+------------+--------------+\n|stock_symbol|dividend_count|\n+------------+--------------+\n|         JAH|             2|\n|         JBI|            13|\n|         JBJ|            13|\n|         JBK|            20|\n|         JBL|            15|\n|         JBN|             5|\n|         JBO|            11|\n|         JBR|             5|\n|         JBT|             5|\n|         JCE|            11|\n|         JCI|            97|\n|         JCP|           114|\n|         JDD|            50|\n|         JEF|            72|\n|         JEQ|             8|\n|         JFC|            19|\n|         JFP|            58|\n|         JFR|            68|\n|         JGG|            17|\n|         JGT|            11|\n+------------+--------------+\nonly showing top 20 rows\n\n"
     ]
    }
   ],
   "source": [
    "result.show()"
   ]
  },
  {
   "cell_type": "code",
   "execution_count": 0,
   "metadata": {
    "application/vnd.databricks.v1+cell": {
     "cellMetadata": {
      "byteLimit": 2048000,
      "rowLimit": 10000
     },
     "inputWidgets": {},
     "nuid": "67dfb5c9-6252-427e-b391-09834ad92224",
     "showTitle": true,
     "title": "    7. Get a list with stock symbol, date, volume, adjusted close price and dividends by joining the two dataframes on stock symbol and date columns"
    }
   },
   "outputs": [],
   "source": [
    "joined_df=dailyDF.join(dividendDF, ['stock_symbol', 'date'], 'inner')"
   ]
  },
  {
   "cell_type": "code",
   "execution_count": 0,
   "metadata": {
    "application/vnd.databricks.v1+cell": {
     "cellMetadata": {
      "byteLimit": 2048000,
      "rowLimit": 10000
     },
     "inputWidgets": {},
     "nuid": "d82009b8-cbea-4b1a-9cb1-bc560c9f1bba",
     "showTitle": false,
     "title": ""
    }
   },
   "outputs": [],
   "source": [
    "joined_df1=joined_df.select('stock_symbol', 'date', 'volume', 'adjusted_close_price', 'dividends')"
   ]
  },
  {
   "cell_type": "code",
   "execution_count": 0,
   "metadata": {
    "application/vnd.databricks.v1+cell": {
     "cellMetadata": {
      "byteLimit": 2048000,
      "rowLimit": 10000
     },
     "inputWidgets": {},
     "nuid": "62f63ea3-5214-4593-bc42-6c2bba760ca0",
     "showTitle": false,
     "title": ""
    }
   },
   "outputs": [
    {
     "output_type": "stream",
     "name": "stdout",
     "output_type": "stream",
     "text": [
      "+------------+----------+-------+--------------------+---------+\n|stock_symbol|      date| volume|adjusted_close_price|dividends|\n+------------+----------+-------+--------------------+---------+\n|         JEF|2008-05-13|1595800|               17.75|    0.125|\n|         JEF|2008-02-13|1158400|               18.73|    0.125|\n|         JEF|2007-11-13|1488700|               24.52|    0.125|\n|         JEF|2007-08-13|1646400|               24.33|    0.125|\n|         JEF|2007-05-11|2019500|                31.3|    0.125|\n|         JEF|2007-02-13| 519200|               27.57|    0.125|\n|         JEF|2006-11-13| 467000|               28.51|    0.125|\n|         JEF|2006-08-11| 385600|               23.93|    0.125|\n|         JEF|2006-05-23|1009300|                28.4|    0.063|\n|         JEF|2006-02-13| 511200|               25.25|    0.075|\n|         JEF|2005-11-10| 658200|               21.65|    0.075|\n|         JEF|2005-08-11| 283800|               19.48|     0.06|\n|         JEF|2005-05-12|1393400|               16.14|     0.06|\n|         JEF|2005-02-11| 824400|               19.05|     0.06|\n|         JEF|2004-11-10| 561200|               19.46|     0.05|\n|         JEF|2004-08-12| 337400|               14.33|     0.05|\n|         JEF|2004-05-12|1251600|               15.31|     0.04|\n|         JEF|2004-02-12| 316200|               17.57|     0.04|\n|         JEF|2003-11-13| 324200|               15.09|     0.04|\n|         JEF|2003-08-22| 630400|               13.96|     0.04|\n+------------+----------+-------+--------------------+---------+\nonly showing top 20 rows\n\n"
     ]
    }
   ],
   "source": [
    "joined_df1.show()"
   ]
  },
  {
   "cell_type": "code",
   "execution_count": 0,
   "metadata": {
    "application/vnd.databricks.v1+cell": {
     "cellMetadata": {
      "byteLimit": 2048000,
      "rowLimit": 10000
     },
     "inputWidgets": {},
     "nuid": "4b7d843e-973d-4ad5-b3f7-31665290af3c",
     "showTitle": false,
     "title": ""
    }
   },
   "outputs": [
    {
     "output_type": "stream",
     "name": "stdout",
     "output_type": "stream",
     "text": [
      "+----------+------------+-------+--------------------+---------+\n|      date|stock_symbol| volume|adjusted_close_price|dividends|\n+----------+------------+-------+--------------------+---------+\n|2008-05-13|         JEF|1595800|               17.75|    0.125|\n|2008-02-13|         JEF|1158400|               18.73|    0.125|\n|2007-11-13|         JEF|1488700|               24.52|    0.125|\n|2007-08-13|         JEF|1646400|               24.33|    0.125|\n|2007-05-11|         JEF|2019500|                31.3|    0.125|\n|2007-02-13|         JEF| 519200|               27.57|    0.125|\n|2006-11-13|         JEF| 467000|               28.51|    0.125|\n|2006-08-11|         JEF| 385600|               23.93|    0.125|\n|2006-05-23|         JEF|1009300|                28.4|    0.063|\n|2006-02-13|         JEF| 511200|               25.25|    0.075|\n|2005-11-10|         JEF| 658200|               21.65|    0.075|\n|2005-08-11|         JEF| 283800|               19.48|     0.06|\n|2005-05-12|         JEF|1393400|               16.14|     0.06|\n|2005-02-11|         JEF| 824400|               19.05|     0.06|\n|2004-11-10|         JEF| 561200|               19.46|     0.05|\n|2004-08-12|         JEF| 337400|               14.33|     0.05|\n|2004-05-12|         JEF|1251600|               15.31|     0.04|\n|2004-02-12|         JEF| 316200|               17.57|     0.04|\n|2003-11-13|         JEF| 324200|               15.09|     0.04|\n|2003-08-22|         JEF| 630400|               13.96|     0.04|\n+----------+------------+-------+--------------------+---------+\nonly showing top 20 rows\n\n"
     ]
    }
   ],
   "source": [
    "# Execute Spark SQL query with JOIN\n",
    "result = dailyDF.join(dividendDF, (dailyDF[\"date\"] == dividendDF[\"date\"]) & (dailyDF[\"stock_symbol\"] == dividendDF[\"stock_symbol\"]), \"inner\") \\\n",
    "            .select(dailyDF[\"date\"], dailyDF[\"stock_symbol\"], dailyDF[\"volume\"], dailyDF[\"adjusted_close_price\"],dividendDF[\"dividends\"])\n",
    "\n",
    "# Show the result\n",
    "result.show()"
   ]
  },
  {
   "cell_type": "code",
   "execution_count": 0,
   "metadata": {
    "application/vnd.databricks.v1+cell": {
     "cellMetadata": {
      "byteLimit": 2048000,
      "rowLimit": 10000
     },
     "inputWidgets": {},
     "nuid": "797157ac-d450-45b4-bf80-d10c36fde8c8",
     "showTitle": true,
     "title": " 8. Save the above list in comma separated format."
    }
   },
   "outputs": [],
   "source": [
    "# Specify the path where you want to save the CSV file\n",
    "output_path = \"/FileStore/tables/resultnew.csv\"\n",
    "\n",
    "# Save the DataFrame in comma-separated format\n",
    "joined_df1.write.csv(output_path, header=True, mode=\"overwrite\")\n"
   ]
  },
  {
   "cell_type": "code",
   "execution_count": 0,
   "metadata": {
    "application/vnd.databricks.v1+cell": {
     "cellMetadata": {
      "byteLimit": 2048000,
      "rowLimit": 10000
     },
     "inputWidgets": {},
     "nuid": "fe4b97c9-4828-4ed8-b312-3855aaa63350",
     "showTitle": false,
     "title": ""
    }
   },
   "outputs": [
    {
     "output_type": "display_data",
     "data": {
      "text/html": [
       "<style scoped>\n",
       "  .table-result-container {\n",
       "    max-height: 300px;\n",
       "    overflow: auto;\n",
       "  }\n",
       "  table, th, td {\n",
       "    border: 1px solid black;\n",
       "    border-collapse: collapse;\n",
       "  }\n",
       "  th, td {\n",
       "    padding: 5px;\n",
       "  }\n",
       "  th {\n",
       "    text-align: left;\n",
       "  }\n",
       "</style><div class='table-result-container'><table class='table-result'><thead style='background-color: white'><tr><th>path</th><th>name</th><th>size</th><th>modificationTime</th></tr></thead><tbody><tr><td>dbfs:/FileStore/tables/customers-1.tsv</td><td>customers-1.tsv</td><td>44551</td><td>1703222763000</td></tr><tr><td>dbfs:/FileStore/tables/customers-1.txt</td><td>customers-1.txt</td><td>44624</td><td>1703222763000</td></tr><tr><td>dbfs:/FileStore/tables/customers-2.tsv</td><td>customers-2.tsv</td><td>44551</td><td>1703223086000</td></tr><tr><td>dbfs:/FileStore/tables/customers-2.txt</td><td>customers-2.txt</td><td>44624</td><td>1703223086000</td></tr><tr><td>dbfs:/FileStore/tables/customers.tsv</td><td>customers.tsv</td><td>44551</td><td>1703222708000</td></tr><tr><td>dbfs:/FileStore/tables/customers.txt</td><td>customers.txt</td><td>44624</td><td>1703222708000</td></tr><tr><td>dbfs:/FileStore/tables/daily_data.txt</td><td>daily_data.txt</td><td>9105715</td><td>1703223562000</td></tr><tr><td>dbfs:/FileStore/tables/dividend_data.txt</td><td>dividend_data.txt</td><td>55598</td><td>1703223560000</td></tr><tr><td>dbfs:/FileStore/tables/products-1.json</td><td>products-1.json</td><td>3261964</td><td>1703223088000</td></tr><tr><td>dbfs:/FileStore/tables/products-1.tsv</td><td>products-1.tsv</td><td>1259724</td><td>1703223088000</td></tr><tr><td>dbfs:/FileStore/tables/products.json</td><td>products.json</td><td>3261964</td><td>1703222765000</td></tr><tr><td>dbfs:/FileStore/tables/products.tsv</td><td>products.tsv</td><td>1259724</td><td>1703222765000</td></tr><tr><td>dbfs:/FileStore/tables/result.csv/</td><td>result.csv/</td><td>0</td><td>0</td></tr><tr><td>dbfs:/FileStore/tables/result1.csv/</td><td>result1.csv/</td><td>0</td><td>0</td></tr><tr><td>dbfs:/FileStore/tables/result2.csv/</td><td>result2.csv/</td><td>0</td><td>0</td></tr><tr><td>dbfs:/FileStore/tables/result3.csv/</td><td>result3.csv/</td><td>0</td><td>0</td></tr><tr><td>dbfs:/FileStore/tables/resultnew.csv/</td><td>resultnew.csv/</td><td>0</td><td>0</td></tr><tr><td>dbfs:/FileStore/tables/salestxns-1.tsv</td><td>salestxns-1.tsv</td><td>13368795</td><td>1703223089000</td></tr><tr><td>dbfs:/FileStore/tables/salestxns.tsv</td><td>salestxns.tsv</td><td>13368795</td><td>1703222766000</td></tr><tr><td>dbfs:/FileStore/tables/to/</td><td>to/</td><td>0</td><td>0</td></tr><tr><td>dbfs:/FileStore/tables/war_and_peace.txt</td><td>war_and_peace.txt</td><td>3266939</td><td>1700300663000</td></tr></tbody></table></div>"
      ]
     },
     "metadata": {
      "application/vnd.databricks.v1+output": {
       "addedWidgets": {},
       "aggData": [],
       "aggError": "",
       "aggOverflow": false,
       "aggSchema": [],
       "aggSeriesLimitReached": false,
       "aggType": "",
       "arguments": {},
       "columnCustomDisplayInfos": {},
       "data": [
        [
         "dbfs:/FileStore/tables/customers-1.tsv",
         "customers-1.tsv",
         44551,
         1703222763000
        ],
        [
         "dbfs:/FileStore/tables/customers-1.txt",
         "customers-1.txt",
         44624,
         1703222763000
        ],
        [
         "dbfs:/FileStore/tables/customers-2.tsv",
         "customers-2.tsv",
         44551,
         1703223086000
        ],
        [
         "dbfs:/FileStore/tables/customers-2.txt",
         "customers-2.txt",
         44624,
         1703223086000
        ],
        [
         "dbfs:/FileStore/tables/customers.tsv",
         "customers.tsv",
         44551,
         1703222708000
        ],
        [
         "dbfs:/FileStore/tables/customers.txt",
         "customers.txt",
         44624,
         1703222708000
        ],
        [
         "dbfs:/FileStore/tables/daily_data.txt",
         "daily_data.txt",
         9105715,
         1703223562000
        ],
        [
         "dbfs:/FileStore/tables/dividend_data.txt",
         "dividend_data.txt",
         55598,
         1703223560000
        ],
        [
         "dbfs:/FileStore/tables/products-1.json",
         "products-1.json",
         3261964,
         1703223088000
        ],
        [
         "dbfs:/FileStore/tables/products-1.tsv",
         "products-1.tsv",
         1259724,
         1703223088000
        ],
        [
         "dbfs:/FileStore/tables/products.json",
         "products.json",
         3261964,
         1703222765000
        ],
        [
         "dbfs:/FileStore/tables/products.tsv",
         "products.tsv",
         1259724,
         1703222765000
        ],
        [
         "dbfs:/FileStore/tables/result.csv/",
         "result.csv/",
         0,
         0
        ],
        [
         "dbfs:/FileStore/tables/result1.csv/",
         "result1.csv/",
         0,
         0
        ],
        [
         "dbfs:/FileStore/tables/result2.csv/",
         "result2.csv/",
         0,
         0
        ],
        [
         "dbfs:/FileStore/tables/result3.csv/",
         "result3.csv/",
         0,
         0
        ],
        [
         "dbfs:/FileStore/tables/resultnew.csv/",
         "resultnew.csv/",
         0,
         0
        ],
        [
         "dbfs:/FileStore/tables/salestxns-1.tsv",
         "salestxns-1.tsv",
         13368795,
         1703223089000
        ],
        [
         "dbfs:/FileStore/tables/salestxns.tsv",
         "salestxns.tsv",
         13368795,
         1703222766000
        ],
        [
         "dbfs:/FileStore/tables/to/",
         "to/",
         0,
         0
        ],
        [
         "dbfs:/FileStore/tables/war_and_peace.txt",
         "war_and_peace.txt",
         3266939,
         1700300663000
        ]
       ],
       "datasetInfos": [],
       "dbfsResultPath": null,
       "isJsonSchema": true,
       "metadata": {
        "isDbfsCommandResult": false
       },
       "overflow": false,
       "plotOptions": {
        "customPlotOptions": {},
        "displayType": "table",
        "pivotAggregation": null,
        "pivotColumns": null,
        "xColumns": null,
        "yColumns": null
       },
       "removedWidgets": [],
       "schema": [
        {
         "metadata": "{}",
         "name": "path",
         "type": "\"string\""
        },
        {
         "metadata": "{}",
         "name": "name",
         "type": "\"string\""
        },
        {
         "metadata": "{}",
         "name": "size",
         "type": "\"long\""
        },
        {
         "metadata": "{}",
         "name": "modificationTime",
         "type": "\"long\""
        }
       ],
       "type": "table"
      }
     },
     "output_type": "display_data"
    }
   ],
   "source": [
    "%fs ls dbfs:/FileStore/tables"
   ]
  },
  {
   "cell_type": "code",
   "execution_count": 0,
   "metadata": {
    "application/vnd.databricks.v1+cell": {
     "cellMetadata": {
      "byteLimit": 2048000,
      "rowLimit": 10000
     },
     "inputWidgets": {},
     "nuid": "89c5c676-f8f2-47e9-ab0c-91f8f0b1e5e7",
     "showTitle": false,
     "title": ""
    }
   },
   "outputs": [],
   "source": [
    "resultnewDF = spark.read.load(\"/FileStore/tables/resultnew.csv\", format=\"csv\", sep=\"\\t\", inferSchema=\"true\",header=\"true\")"
   ]
  },
  {
   "cell_type": "code",
   "execution_count": 0,
   "metadata": {
    "application/vnd.databricks.v1+cell": {
     "cellMetadata": {
      "byteLimit": 2048000,
      "rowLimit": 10000
     },
     "inputWidgets": {},
     "nuid": "6d87f05c-2706-4511-8335-180e2f18d460",
     "showTitle": false,
     "title": ""
    }
   },
   "outputs": [
    {
     "output_type": "stream",
     "name": "stdout",
     "output_type": "stream",
     "text": [
      "+-------------------------------------------------------+\n|stock_symbol,date,volume,adjusted_close_price,dividends|\n+-------------------------------------------------------+\n|                                   JEF,2008-05-13,15...|\n|                                   JEF,2008-02-13,11...|\n|                                   JEF,2007-11-13,14...|\n|                                   JEF,2007-08-13,16...|\n|                                   JEF,2007-05-11,20...|\n|                                   JEF,2007-02-13,51...|\n|                                   JEF,2006-11-13,46...|\n|                                   JEF,2006-08-11,38...|\n|                                   JEF,2006-05-23,10...|\n|                                   JEF,2006-02-13,51...|\n|                                   JEF,2005-11-10,65...|\n|                                   JEF,2005-08-11,28...|\n|                                   JEF,2005-05-12,13...|\n|                                   JEF,2005-02-11,82...|\n|                                   JEF,2004-11-10,56...|\n|                                   JEF,2004-08-12,33...|\n|                                   JEF,2004-05-12,12...|\n|                                   JEF,2004-02-12,31...|\n|                                   JEF,2003-11-13,32...|\n|                                   JEF,2003-08-22,63...|\n+-------------------------------------------------------+\nonly showing top 20 rows\n\n"
     ]
    }
   ],
   "source": [
    "resultnewDF.show()"
   ]
  },
  {
   "cell_type": "code",
   "execution_count": 0,
   "metadata": {
    "application/vnd.databricks.v1+cell": {
     "cellMetadata": {},
     "inputWidgets": {},
     "nuid": "230bb688-fde8-4888-88ae-c5292dd9f8bb",
     "showTitle": false,
     "title": ""
    }
   },
   "outputs": [],
   "source": []
  }
 ],
 "metadata": {
  "application/vnd.databricks.v1+notebook": {
   "dashboards": [],
   "language": "python",
   "notebookMetadata": {
    "mostRecentlyExecutedCommandWithImplicitDF": {
     "commandId": 903604730565438,
     "dataframes": [
      "_sqldf"
     ]
    },
    "pythonIndentUnit": 4
   },
   "notebookName": "BDML_MP3",
   "widgets": {}
  }
 },
 "nbformat": 4,
 "nbformat_minor": 0
}
